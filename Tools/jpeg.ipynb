{
 "cells": [
  {
   "cell_type": "code",
   "execution_count": 9,
   "id": "805a693e-7d40-479b-887e-63dbebc4af00",
   "metadata": {},
   "outputs": [
    {
     "name": "stdout",
     "output_type": "stream",
     "text": [
      "Error: cannot write mode P as JPEG\n"
     ]
    }
   ],
   "source": [
    "from PIL import Image\n",
    "import os\n",
    "\n",
    "def compress_png_to_jpeg(input_path, target_size_kb=500, initial_quality=95, output_path=None):\n",
    "    # 檢查輸入檔案是否存在\n",
    "    if not os.path.exists(input_path):\n",
    "        raise FileNotFoundError(f\"Input file not found: {input_path}\")\n",
    "    \n",
    "    # 如果沒有指定輸出路徑，則在原檔案名稱後加上 _compressed.jpg\n",
    "    if output_path is None:\n",
    "        filename = os.path.splitext(input_path)[0]\n",
    "        output_path = f\"{filename}_compressed.jpg\"\n",
    "    \n",
    "    # 打開圖片\n",
    "    img = Image.open(input_path)\n",
    "    \n",
    "    # 如果圖片是PNG且有透明層，將其轉換為RGB\n",
    "    if img.mode == 'RGBA':\n",
    "        background = Image.new('RGB', img.size, (255, 255, 255))\n",
    "        background.paste(img, mask=img.split()[3])\n",
    "        img = background\n",
    "    \n",
    "    quality = initial_quality\n",
    "    max_attempts = 10\n",
    "    attempt = 0\n",
    "    \n",
    "    while attempt < max_attempts:\n",
    "        # 創建臨時檔案來檢查大小\n",
    "        temp_output = f\"temp_{attempt}.jpg\"\n",
    "        img.save(temp_output, 'JPEG', quality=quality)\n",
    "        \n",
    "        # 獲取檔案大小（以KB為單位）\n",
    "        file_size = os.path.getsize(temp_output) / 1024\n",
    "        \n",
    "        # 刪除臨時檔案\n",
    "        os.remove(temp_output)\n",
    "        \n",
    "        # 檢查是否達到目標大小\n",
    "        if file_size <= target_size_kb:\n",
    "            break\n",
    "        \n",
    "        # 根據當前大小調整品質\n",
    "        quality = int(quality * (target_size_kb / file_size) ** 0.5)\n",
    "        quality = max(5, min(95, quality))  # 確保品質在5-95之間\n",
    "        \n",
    "        attempt += 1\n",
    "    \n",
    "    # 儲存最終檔案\n",
    "    img.save(output_path, 'JPEG', quality=quality)\n",
    "    \n",
    "    return output_path, quality\n",
    "\n",
    "# 使用範例\n",
    "if __name__ == \"__main__\":\n",
    "    try:\n",
    "        input_file = path  # 替換為實際的輸入檔案路徑\n",
    "        output_file, final_quality = compress_png_to_jpeg(input_file)\n",
    "        print(f\"Compressed image saved as: {output_file}\")\n",
    "        print(f\"Final quality setting: {final_quality}\")\n",
    "    except Exception as e:\n",
    "        print(f\"Error: {str(e)}\")"
   ]
  },
  {
   "cell_type": "code",
   "execution_count": 31,
   "id": "7e1c160b-c976-4c90-abc8-9ed9ec5fb1a5",
   "metadata": {},
   "outputs": [],
   "source": [
    "path = \"D:/NTCUST/Project/Competition/AI_CUP/AI_CUP_2024/finance_0-100/images/6_1.png\""
   ]
  },
  {
   "cell_type": "code",
   "execution_count": 12,
   "id": "dcf60040-17e5-484c-ae3c-a13ee921e6fa",
   "metadata": {},
   "outputs": [
    {
     "data": {
      "text/plain": [
       "'D:\\\\NTCUST\\\\Project\\\\Competition\\\\AI_CUP'"
      ]
     },
     "execution_count": 12,
     "metadata": {},
     "output_type": "execute_result"
    }
   ],
   "source": [
    "import os\n",
    "os.getcwd()"
   ]
  },
  {
   "cell_type": "code",
   "execution_count": 18,
   "id": "94b3aaee-5254-41a2-89ae-b2751db21a80",
   "metadata": {},
   "outputs": [],
   "source": [
    "# ---"
   ]
  },
  {
   "cell_type": "code",
   "execution_count": 33,
   "id": "bf1abd29-7f83-4cd9-8846-f2a954d68188",
   "metadata": {},
   "outputs": [
    {
     "name": "stdout",
     "output_type": "stream",
     "text": [
      "圖片轉換成功！\n"
     ]
    }
   ],
   "source": [
    "from PIL import Image\n",
    "\n",
    "def convert_and_resize_image(input_path, output_path):\n",
    "    try:\n",
    "        # 打開PNG圖片\n",
    "        with Image.open(input_path) as img:\n",
    "            # 處理不同的圖片模式\n",
    "            if img.mode in ('RGBA', 'LA'):\n",
    "                # 創建一個白色背景\n",
    "                background = Image.new('RGB', img.size, (255, 255, 255))\n",
    "                # 如果有透明通道，則將圖片貼在白色背景上\n",
    "                if img.mode == 'RGBA':\n",
    "                    background.paste(img, mask=img.split()[3])\n",
    "                else:\n",
    "                    background.paste(img)\n",
    "                img = background\n",
    "            elif img.mode == 'P':\n",
    "                # 將調色板模式轉換為RGB\n",
    "                img = img.convert('RGB')\n",
    "            elif img.mode != 'RGB':\n",
    "                # 將其他任何模式轉換為RGB\n",
    "                img = img.convert('RGB')\n",
    "\n",
    "            # 調整圖片大小\n",
    "            # 根據 img 的寬高比例，調整 width 或 height 以保持比例\n",
    "            original_width, original_height = img.size\n",
    "            # 計算比例\n",
    "            aspect_ratio = original_width / original_height\n",
    "\n",
    "            # 找到 width 和 height 其中最大的，調整成最大的不能超過 2000，依比例調整\n",
    "            if original_width > original_height:\n",
    "                if original_width > 1800:\n",
    "                    new_width = 1800\n",
    "                    new_height = int(new_width / aspect_ratio)\n",
    "                else:\n",
    "                    new_width = original_width\n",
    "                    new_height = original_height\n",
    "            else:\n",
    "                if original_height > 1800:\n",
    "                    new_height = 1800\n",
    "                    new_width = int(new_height * aspect_ratio)\n",
    "                else:\n",
    "                    new_width = original_width\n",
    "                    new_height = original_height\n",
    "\n",
    "            # 調整圖片大小\n",
    "            resized_img = img.resize((new_width, new_height), Image.LANCZOS)\n",
    "            \n",
    "            # 保存為JPEG\n",
    "            resized_img.save(output_path, 'JPEG', quality=95)\n",
    "            \n",
    "        print(\"圖片轉換成功！\")\n",
    "        return True\n",
    "    except Exception as e:\n",
    "        print(f\"轉換過程中發生錯誤: {str(e)}\")\n",
    "        return False\n",
    "\n",
    "# 使用示例\n",
    "if __name__ == \"__main__\":\n",
    "    input_file = \"input.png\"  # 請確保這裡使用您的實際輸入文件路徑\n",
    "    input_file = path  # 請確保這裡使用您的實際輸入文件路徑\n",
    "    output_file = \"output.jpg\"  # 輸出文件路徑\n",
    "    \n",
    "    convert_and_resize_image(input_file, output_file)"
   ]
  }
 ],
 "metadata": {
  "kernelspec": {
   "display_name": "Python 3 (ipykernel)",
   "language": "python",
   "name": "python3"
  },
  "language_info": {
   "codemirror_mode": {
    "name": "ipython",
    "version": 3
   },
   "file_extension": ".py",
   "mimetype": "text/x-python",
   "name": "python",
   "nbconvert_exporter": "python",
   "pygments_lexer": "ipython3",
   "version": "3.10.13"
  }
 },
 "nbformat": 4,
 "nbformat_minor": 5
}
