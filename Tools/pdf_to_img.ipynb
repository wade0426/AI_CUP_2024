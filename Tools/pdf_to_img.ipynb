{
 "cells": [
  {
   "cell_type": "code",
   "execution_count": null,
   "metadata": {},
   "outputs": [],
   "source": [
    "import os\n",
    "print(os.getcwd())\n",
    "os.chdir(\"../finance_0-100\")\n",
    "print(os.getcwd())"
   ]
  },
  {
   "cell_type": "code",
   "execution_count": null,
   "metadata": {},
   "outputs": [],
   "source": [
    "import pdfplumber # type: ignore\n",
    "\n",
    "start_idnex = int(input(\"輸入第一個開始轉換的index:\"))\n",
    "end_idnex = int(input(\"輸入最後一個轉換的index:\"))\n",
    "\n",
    "# 讀取當前路徑的 i.pdf 檔案。\n",
    "for i in range(start_idnex, end_idnex):\n",
    "    pdf_path = f\"{i}.pdf\"\n",
    "    with pdfplumber.open(pdf_path) as pdf:\n",
    "        for page in pdf.pages:\n",
    "            image = page.to_image(resolution=300) # 最高應該是300dpi\n",
    "            image.save(f\"images/{i}_{page.page_number}.png\", format=\"PNG\", quality=100)\n",
    "        print(f\"{pdf_path}的圖片已存檔完成\")\n",
    "\n",
    "print(\"done\")"
   ]
  }
 ],
 "metadata": {
  "kernelspec": {
   "display_name": "project",
   "language": "python",
   "name": "python3"
  },
  "language_info": {
   "codemirror_mode": {
    "name": "ipython",
    "version": 3
   },
   "file_extension": ".py",
   "mimetype": "text/x-python",
   "name": "python",
   "nbconvert_exporter": "python",
   "pygments_lexer": "ipython3",
   "version": "3.10.13"
  }
 },
 "nbformat": 4,
 "nbformat_minor": 2
}
